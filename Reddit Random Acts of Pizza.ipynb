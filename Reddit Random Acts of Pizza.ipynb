{
 "cells": [
  {
   "cell_type": "code",
   "execution_count": 1,
   "metadata": {},
   "outputs": [
    {
     "name": "stdout",
     "output_type": "stream",
     "text": [
      "showing info https://raw.githubusercontent.com/nltk/nltk_data/gh-pages/index.xml\n"
     ]
    }
   ],
   "source": [
    "import json\n",
    "import pandas as pd\n",
    "from sklearn.model_selection import train_test_split\n",
    "from sklearn.linear_model import LogisticRegression\n",
    "from sklearn.metrics import accuracy_score\n",
    "from sklearn.feature_extraction.text import CountVectorizer\n",
    "import nltk\n",
    "nltk.download()\n",
    "from nltk.corpus import stopwords\n",
    "from nltk.stem import PorterStemmer\n",
    "import re\n",
    "import matplotlib.pyplot as plt\n",
    "import numpy as np\n",
    "from sklearn.model_selection import GridSearchCV\n",
    "from sklearn.model_selection import RandomizedSearchCV\n",
    "from scipy import stats\n",
    "from sklearn.metrics import classification_report\n",
    "from sklearn import preprocessing\n",
    "from sklearn.naive_bayes import MultinomialNB"
   ]
  },
  {
   "cell_type": "code",
   "execution_count": 2,
   "metadata": {},
   "outputs": [
    {
     "name": "stderr",
     "output_type": "stream",
     "text": [
      "C:\\Users\\hfallah\\AppData\\Local\\Continuum\\anaconda3\\lib\\site-packages\\ipykernel_launcher.py:30: SettingWithCopyWarning: \n",
      "A value is trying to be set on a copy of a slice from a DataFrame.\n",
      "Try using .loc[row_indexer,col_indexer] = value instead\n",
      "\n",
      "See the caveats in the documentation: http://pandas.pydata.org/pandas-docs/stable/indexing.html#indexing-view-versus-copy\n",
      "C:\\Users\\hfallah\\AppData\\Local\\Continuum\\anaconda3\\lib\\site-packages\\sklearn\\model_selection\\_split.py:2026: FutureWarning: From version 0.21, test_size will always complement train_size unless both are specified.\n",
      "  FutureWarning)\n"
     ]
    }
   ],
   "source": [
    "######################################################################################################\n",
    "# Read in raw test and train data\n",
    "######################################################################################################\n",
    " \n",
    "with open(r\"C:\\Users\\hfallah\\pizza\\train.json\",'r') as m_file:\n",
    "    data_train = json.load(m_file)\n",
    "\n",
    "data_frame = pd.DataFrame(data_train)\n",
    "\n",
    "with open(r\"C:\\Users\\hfallah\\pizza\\test.json\",'r') as m_file:\n",
    "    data_test = json.load(m_file)\n",
    "\n",
    "data_frame_train_ = pd.DataFrame(data_train)\n",
    "data_frame_test = pd.DataFrame(data_test)\n",
    "\n",
    "data_frame_tr_label = data_frame_train_[['requester_received_pizza']]\n",
    "\n",
    "data_frame_train = data_frame_train_[['number_of_downvotes_of_request_at_retrieval', 'number_of_upvotes_of_request_at_retrieval',\n",
    "                                        'post_was_edited', 'request_number_of_comments_at_retrieval', 'requester_account_age_in_days_at_request',\n",
    "                                        'requester_account_age_in_days_at_retrieval', 'requester_days_since_first_post_on_raop_at_request',\n",
    "                                        'requester_days_since_first_post_on_raop_at_retrieval', 'requester_number_of_comments_at_request',\n",
    "                                        'requester_number_of_comments_at_retrieval', 'requester_number_of_comments_in_raop_at_request',\n",
    "                                        'requester_number_of_comments_in_raop_at_retrieval', 'requester_number_of_posts_at_request',\n",
    "                                        'requester_number_of_posts_at_retrieval', 'requester_number_of_posts_on_raop_at_request',\n",
    "                                        'requester_number_of_posts_on_raop_at_retrieval', 'requester_number_of_subreddits_at_request',\n",
    "                                        'requester_upvotes_minus_downvotes_at_request', 'requester_upvotes_minus_downvotes_at_retrieval',\n",
    "                                        'requester_upvotes_plus_downvotes_at_request', 'requester_upvotes_plus_downvotes_at_retrieval','request_text',\n",
    "                                        'requester_username']]\n",
    "\n",
    "data_frame_train['post_was_edited'] = data_frame_train['post_was_edited'].apply(lambda x: False if (x > 1 and x != 0) else x)\n",
    "\n",
    "\n",
    "Train, Test, Label_Train, Label_Test = train_test_split(\n",
    "    data_frame_train, data_frame_tr_label, train_size = 0.75)\n"
   ]
  },
  {
   "cell_type": "code",
   "execution_count": 3,
   "metadata": {
    "collapsed": true
   },
   "outputs": [],
   "source": [
    "######################################################################################################\n",
    "# Model 1 - For data with numeric variables - Use logistic regression\n",
    "######################################################################################################\n",
    "\n",
    "#Numeric only data\n",
    "data_frame_numericsTr = Train[['number_of_downvotes_of_request_at_retrieval', 'number_of_upvotes_of_request_at_retrieval',\n",
    "                                        'post_was_edited', 'request_number_of_comments_at_retrieval', 'requester_account_age_in_days_at_request',\n",
    "                                        'requester_account_age_in_days_at_retrieval', 'requester_days_since_first_post_on_raop_at_request',\n",
    "                                        'requester_days_since_first_post_on_raop_at_retrieval', 'requester_number_of_comments_at_request',\n",
    "                                        'requester_number_of_comments_at_retrieval', 'requester_number_of_comments_in_raop_at_request',\n",
    "                                        'requester_number_of_comments_in_raop_at_retrieval', 'requester_number_of_posts_at_request',\n",
    "                                        'requester_number_of_posts_at_retrieval', 'requester_number_of_posts_on_raop_at_request',\n",
    "                                        'requester_number_of_posts_on_raop_at_retrieval', 'requester_number_of_subreddits_at_request',\n",
    "                                        'requester_upvotes_minus_downvotes_at_request', 'requester_upvotes_minus_downvotes_at_retrieval',\n",
    "                                        'requester_upvotes_plus_downvotes_at_request', 'requester_upvotes_plus_downvotes_at_retrieval']].set_index(Train.requester_username)\n",
    "data_frame_numericsTe = Test[['number_of_downvotes_of_request_at_retrieval', 'number_of_upvotes_of_request_at_retrieval',\n",
    "                                        'post_was_edited', 'request_number_of_comments_at_retrieval', 'requester_account_age_in_days_at_request',\n",
    "                                        'requester_account_age_in_days_at_retrieval', 'requester_days_since_first_post_on_raop_at_request',\n",
    "                                        'requester_days_since_first_post_on_raop_at_retrieval', 'requester_number_of_comments_at_request',\n",
    "                                        'requester_number_of_comments_at_retrieval', 'requester_number_of_comments_in_raop_at_request',\n",
    "                                        'requester_number_of_comments_in_raop_at_retrieval', 'requester_number_of_posts_at_request',\n",
    "                                        'requester_number_of_posts_at_retrieval', 'requester_number_of_posts_on_raop_at_request',\n",
    "                                        'requester_number_of_posts_on_raop_at_retrieval', 'requester_number_of_subreddits_at_request',\n",
    "                                        'requester_upvotes_minus_downvotes_at_request', 'requester_upvotes_minus_downvotes_at_retrieval',\n",
    "                                        'requester_upvotes_plus_downvotes_at_request', 'requester_upvotes_plus_downvotes_at_retrieval']].set_index(Test.requester_username)\n",
    "\n",
    "Label_Train_n_tr = Label_Train.set_index(data_frame_numericsTr.index)\n",
    "\n",
    "Label_Test_n_te = Label_Test.set_index(data_frame_numericsTe.index)"
   ]
  },
  {
   "cell_type": "code",
   "execution_count": 4,
   "metadata": {},
   "outputs": [
    {
     "name": "stderr",
     "output_type": "stream",
     "text": [
      "C:\\Users\\hfallah\\AppData\\Local\\Continuum\\anaconda3\\lib\\site-packages\\sklearn\\utils\\validation.py:578: DataConversionWarning: A column-vector y was passed when a 1d array was expected. Please change the shape of y to (n_samples, ), for example using ravel().\n",
      "  y = column_or_1d(y, warn=True)\n"
     ]
    },
    {
     "name": "stdout",
     "output_type": "stream",
     "text": [
      "Best: 0.846535 using {'max_iter': 140, 'dual': False, 'C': 2.0}\n"
     ]
    }
   ],
   "source": [
    "#Find optimal c parameter\n",
    "lr = LogisticRegression(penalty='l2')\n",
    "dual=[True,False]\n",
    "max_iter=[100,110,120,130,140]\n",
    "C = [1.0,1.5,2.0,2.5,3.0,3.5,4.0]\n",
    "param_grid = dict(dual=dual,max_iter=max_iter,C=C)\n",
    "random = RandomizedSearchCV(estimator=lr, param_distributions=param_grid, cv = 3, n_jobs=-1)\n",
    "\n",
    "\n",
    "random_result = random.fit(data_frame_numericsTr, Label_Train_n_tr)\n",
    "# Summarize results\n",
    "print(\"Best: %f using %s\" % (random_result.best_score_, random_result.best_params_))"
   ]
  },
  {
   "cell_type": "code",
   "execution_count": 8,
   "metadata": {},
   "outputs": [
    {
     "name": "stderr",
     "output_type": "stream",
     "text": [
      "C:\\Users\\hfallah\\AppData\\Local\\Continuum\\anaconda3\\lib\\site-packages\\sklearn\\utils\\validation.py:578: DataConversionWarning: A column-vector y was passed when a 1d array was expected. Please change the shape of y to (n_samples, ), for example using ravel().\n",
      "  y = column_or_1d(y, warn=True)\n"
     ]
    },
    {
     "name": "stdout",
     "output_type": "stream",
     "text": [
      "Final Accuracy: 0.79900990099\n"
     ]
    }
   ],
   "source": [
    "final_model = LogisticRegression(C=2.0, max_iter=140, dual=False)\n",
    "final_model.fit(data_frame_numericsTr, Label_Train_n_tr)\n",
    "print (\"Final Accuracy: %s\" \n",
    "       % accuracy_score(Label_Test_n_te, final_model.predict(data_frame_numericsTe)))\n",
    "# Final Accuracy: 0.80"
   ]
  },
  {
   "cell_type": "code",
   "execution_count": 9,
   "metadata": {},
   "outputs": [
    {
     "name": "stdout",
     "output_type": "stream",
     "text": [
      "             precision    recall  f1-score   support\n",
      "\n",
      "      False     0.8241    0.9332    0.8752       763\n",
      "       True     0.6507    0.3846    0.4835       247\n",
      "\n",
      "avg / total     0.7817    0.7990    0.7794      1010\n",
      "\n"
     ]
    }
   ],
   "source": [
    "#Precision Recall\n",
    "print(classification_report(Label_Test_n_te, final_model.predict(data_frame_numericsTe), digits=4))"
   ]
  },
  {
   "cell_type": "code",
   "execution_count": 11,
   "metadata": {},
   "outputs": [
    {
     "data": {
      "image/png": "[encoded data removed]",
      "text/plain": [
       "<matplotlib.figure.Figure at 0x12d471a2eb8>"
      ]
     },
     "metadata": {},
     "output_type": "display_data"
    }
   ],
   "source": [
    "# Compute ROC curve \n",
    "import sklearn.metrics as metrics\n",
    "# calculate the fpr and tpr for all thresholds of the classification\n",
    "probs = final_model.predict_proba(data_frame_numericsTe)\n",
    "preds = probs[:,1]\n",
    "fpr, tpr, threshold = metrics.roc_curve(Label_Test_n_te, preds)\n",
    "roc_auc = metrics.auc(fpr, tpr)\n",
    "\n",
    "plt.title('Receiver Operating Characteristic')\n",
    "plt.plot(fpr, tpr, 'b', label = 'AUC = %0.2f' % roc_auc)\n",
    "plt.legend(loc = 'lower right')\n",
    "plt.plot([0, 1], [0, 1],'r--')\n",
    "plt.xlim([0, 1])\n",
    "plt.ylim([0, 1])\n",
    "plt.ylabel('True Positive Rate')\n",
    "plt.xlabel('False Positive Rate')\n",
    "plt.show()"
   ]
  },
  {
   "cell_type": "code",
   "execution_count": 12,
   "metadata": {
    "collapsed": true
   },
   "outputs": [],
   "source": [
    "######################################################################################################\n",
    "# Model 2 - Text Model\n",
    "######################################################################################################\n",
    "\n",
    "#Look at text variables\n",
    "data_frame_text_tr = Train[['request_text']].set_index(Train.requester_username)\n",
    "data_frame_text_te = Test[['request_text']].set_index(Test.requester_username)\n",
    "\n",
    "Label_Train_t_tr = Label_Train.set_index(data_frame_text_tr.index)\n",
    "Label_Test_t_te = Label_Test.set_index(data_frame_text_te.index)\n",
    "\n",
    "#cleaning text\n",
    "REPLACE_NO_SPACE = re.compile(\"(\\.)|(\\;)|(\\:)|(\\!)|(\\')|(\\?)|(\\,)|(\\\")|(\\()|(\\))|(\\[)|(\\])\")\n",
    "REPLACE_WITH_SPACE = re.compile(\"(<br\\s*/><br\\s*/>)|(\\-)|(\\/)\")\n",
    "\n",
    "sw = list(set(stopwords.words('english')))\n",
    "sw = [REPLACE_NO_SPACE.sub(\"\", line) for line in sw]\n",
    "sw = [REPLACE_WITH_SPACE.sub(\" \", line) for line in sw]\n",
    "sw=str(sw)\n",
    "\n",
    "\n",
    "def word_extraction(sentence):\n",
    "    words = re.sub(\"[^\\w]\", \" \",  sentence).split()\n",
    "    cleaned_text = [w.lower() for w in words if w not in sw]\n",
    "    return cleaned_text\n",
    "\n",
    "\n",
    "def preprocess_reviews(reviews):\n",
    "    reviews = [re.sub(\"\\d\", \"\", line) for line in reviews]\n",
    "    reviews = [REPLACE_NO_SPACE.sub(\"\", line.lower()) for line in reviews]\n",
    "    reviews = [REPLACE_WITH_SPACE.sub(\" \", line) for line in reviews]\n",
    "    reviews = [word_extraction(line) for line in reviews]\n",
    "    reviews = [line[1:] for line in reviews]\n",
    "    return reviews\n",
    "\n",
    "\n",
    "reviews_train_clean = preprocess_reviews(data_frame_text_tr.request_text)\n",
    "reviews_test_clean = preprocess_reviews(data_frame_text_te.request_text)"
   ]
  },
  {
   "cell_type": "code",
   "execution_count": 43,
   "metadata": {
    "collapsed": true
   },
   "outputs": [],
   "source": [
    "#Vectorize text.\n",
    "matrix = CountVectorizer(tokenizer=lambda doc: doc, lowercase=False)\n",
    "matrix.fit(reviews_train_clean)\n",
    "Train_Text2 = pd.DataFrame(matrix.transform(reviews_train_clean).toarray(), columns=matrix.get_feature_names()).set_index(data_frame_text_tr.index)\n",
    "\n",
    "\n",
    "matrix.fit(reviews_test_clean)\n",
    "Test_Text2 = pd.DataFrame(matrix.transform(reviews_test_clean).toarray(), columns=matrix.get_feature_names()).set_index(data_frame_text_te.index)\n",
    "\n",
    "Positive_Pizza_Requests = preprocess_reviews(data_frame_train_.request_text[data_frame_train_.requester_received_pizza==True])\n",
    "matrix.fit(Positive_Pizza_Requests)\n",
    "Positive_Pizza_Requests = pd.DataFrame(matrix.transform(Positive_Pizza_Requests).toarray(), columns=matrix.get_feature_names()).set_index(data_frame_train_.requester_username[data_frame_train_.requester_received_pizza==True])\n",
    "\n",
    "\n",
    "\n",
    "Train_Text2 = Train_Text2.join(Label_Train_t_tr.set_index(data_frame_text_tr.index))\n",
    "Test_Text2 = Test_Text2.join(Label_Test_t_te.set_index(data_frame_text_te.index))\n",
    "\n",
    "maxColsTrain = len(Train_Text2.columns)\n",
    "maxColsTest = len(Test_Text2.columns)\n",
    "for word in Train_Text2.columns[0:maxColsTrain-1]:\n",
    "    if word not in Positive_Pizza_Requests.columns:\n",
    "        del Train_Text2[word]\n",
    "for word in Test_Text2.columns[0:maxColsTest-1]:\n",
    "    if word not in Train_Text2.columns:\n",
    "        del Test_Text2[word]\n",
    "for word in Train_Text2.columns[0:maxColsTest-1]:\n",
    "    if word not in Test_Text2.columns:\n",
    "        Test_Text2[word] = 0\n",
    "\n",
    "Train_Text2_ = Train_Text2\n",
    "Test_Text2_ = Test_Text2"
   ]
  },
  {
   "cell_type": "code",
   "execution_count": 16,
   "metadata": {
    "collapsed": true
   },
   "outputs": [],
   "source": [
    "######################################################################################################\n",
    "# Model 2 - Medthod 1- Frequency Counts\n",
    "######################################################################################################\n",
    "\n",
    "#Frequency of words of successes\n",
    "counts_dataset = pd.DataFrame(columns = [\"Column\",\"LenWord\",\"StemWord\"])\n",
    "\n",
    "#stem words\n",
    "ps = PorterStemmer()\n",
    "\n",
    "for col in list(Train_Text2.columns.values):\n",
    "    Column = col\n",
    "    Stem = ps.stem(col)\n",
    "    LenWord = len(col)\n",
    "    df = pd.DataFrame({'Column': Column,'LenWord': LenWord, 'StemWord': Stem}, index=[col])\n",
    "    counts_dataset = counts_dataset.append(df)\n",
    "\n",
    "counts_dataset = counts_dataset.set_index('StemWord')\n",
    "counts_dataset[\"StemWord\"] = counts_dataset.index\n",
    "counts_dataset[\"Freq\"] = counts_dataset.index.value_counts()\n",
    "counts_dataset = counts_dataset.set_index('Column')\n",
    "counts_dataset[\"Column\"] = counts_dataset.index\n",
    "\n",
    "#If word is 3 letters or less, then remove. Remove too infrequent counts.\n",
    "keep_vars = counts_dataset[counts_dataset.LenWord > 2]\n",
    "keep_vars = keep_vars[keep_vars.Freq > 1]\n",
    "\n",
    "#Dictionary of column and stemword\n",
    "Dict_Vars={}\n",
    "for index, row in keep_vars.iterrows():\n",
    "    Dict_Vars[row['Column']] = row['StemWord']\n",
    "\n",
    "#Keep pertinent columns. Rename column to stem word. Then add up columns of the same stem word and keep unique column names\n",
    "Train_Text2 = Train_Text2[keep_vars['Column']]\n",
    "Train_Text2 = Train_Text2.rename(columns=Dict_Vars)\n",
    "Train_Text2 = Train_Text2.groupby(Train_Text2.columns, axis=1).sum()\n",
    "\n",
    "Test_Text2 = Test_Text2[keep_vars['Column']]\n",
    "Test_Text2 = Test_Text2.rename(columns=Dict_Vars)\n",
    "Test_Text2 = Test_Text2.groupby(Test_Text2.columns, axis=1).sum()"
   ]
  },
  {
   "cell_type": "code",
   "execution_count": 17,
   "metadata": {},
   "outputs": [
    {
     "name": "stdout",
     "output_type": "stream",
     "text": [
      "Final Accuracy: 0.729702970297\n"
     ]
    },
    {
     "name": "stderr",
     "output_type": "stream",
     "text": [
      "C:\\Users\\hfallah\\AppData\\Local\\Continuum\\anaconda3\\lib\\site-packages\\sklearn\\utils\\validation.py:578: DataConversionWarning: A column-vector y was passed when a 1d array was expected. Please change the shape of y to (n_samples, ), for example using ravel().\n",
      "  y = column_or_1d(y, warn=True)\n"
     ]
    }
   ],
   "source": [
    "#Multinomial naive bayes\n",
    "clf = MultinomialNB()\n",
    "clf.fit(Train_Text2, Label_Train_t_tr)\n",
    "print (\"Final Accuracy: %s\" \n",
    "       % accuracy_score(Label_Test_t_te, clf.predict(Test_Text2)))\n",
    "# Final Accuracy: 0.73"
   ]
  },
  {
   "cell_type": "code",
   "execution_count": 18,
   "metadata": {},
   "outputs": [
    {
     "name": "stdout",
     "output_type": "stream",
     "text": [
      "             precision    recall  f1-score   support\n",
      "\n",
      "      False     0.7652    0.9266    0.8382       763\n",
      "       True     0.3488    0.1215    0.1802       247\n",
      "\n",
      "avg / total     0.6633    0.7297    0.6773      1010\n",
      "\n"
     ]
    },
    {
     "data": {
      "image/png": "[encoded data removed]",
      "text/plain": [
       "<matplotlib.figure.Figure at 0x12d49111e48>"
      ]
     },
     "metadata": {},
     "output_type": "display_data"
    }
   ],
   "source": [
    "#Precision Recall\n",
    "print(classification_report(Label_Test_t_te, clf.predict(Test_Text2), digits=4))\n",
    "\n",
    "# Compute ROC curve \n",
    "import sklearn.metrics as metrics\n",
    "# calculate the fpr and tpr for all thresholds of the classification\n",
    "probs = clf.predict_proba(Test_Text2)\n",
    "preds = probs[:,1]\n",
    "fpr, tpr, threshold = metrics.roc_curve(Label_Test_t_te, preds)\n",
    "roc_auc = metrics.auc(fpr, tpr)\n",
    "\n",
    "plt.title('Receiver Operating Characteristic')\n",
    "plt.plot(fpr, tpr, 'b', label = 'AUC = %0.2f' % roc_auc)\n",
    "plt.legend(loc = 'lower right')\n",
    "plt.plot([0, 1], [0, 1],'r--')\n",
    "plt.xlim([0, 1])\n",
    "plt.ylim([0, 1])\n",
    "plt.ylabel('True Positive Rate')\n",
    "plt.xlabel('False Positive Rate')\n",
    "plt.show()"
   ]
  },
  {
   "cell_type": "code",
   "execution_count": 44,
   "metadata": {},
   "outputs": [
    {
     "name": "stdout",
     "output_type": "stream",
     "text": [
      "able\n",
      "accident\n",
      "acct\n",
      "additionally\n",
      "admit\n",
      "aid\n",
      "always\n",
      "amazing\n",
      "anniversary\n",
      "anyone\n",
      "anyones\n",
      "apartment\n",
      "applied\n",
      "ask\n",
      "asking\n",
      "awhile\n",
      "babies\n",
      "back\n",
      "bad\n",
      "basic\n",
      "battery\n",
      "battle\n",
      "beans\n",
      "bill\n",
      "bills\n",
      "bonus\n",
      "borrowing\n",
      "breaks\n",
      "bucks\n",
      "called\n",
      "cant\n",
      "car\n",
      "cheap\n",
      "check\n",
      "checks\n",
      "cheer\n",
      "christmas\n",
      "collect\n",
      "con\n",
      "considering\n",
      "constantly\n",
      "corporate\n",
      "corporation\n",
      "couch\n",
      "cover\n",
      "cups\n",
      "currently\n",
      "cute\n",
      "damages\n",
      "days\n",
      "dealership\n",
      "details\n",
      "disability\n",
      "distance\n",
      "dog\n",
      "dominos\n",
      "doubled\n",
      "drop\n",
      "earned\n",
      "easier\n",
      "edit\n",
      "enjoying\n",
      "especially\n",
      "even\n",
      "everyone\n",
      "evicted\n",
      "exchange\n",
      "eye\n",
      "facility\n",
      "fair\n",
      "fantasy\n",
      "father\n",
      "fed\n",
      "feel\n",
      "feet\n",
      "fill\n",
      "filling\n",
      "finals\n",
      "financial\n",
      "financially\n",
      "flat\n",
      "fold\n",
      "food\n",
      "forever\n",
      "forward\n",
      "fridge\n",
      "fulfilled\n",
      "future\n",
      "generosity\n",
      "get\n",
      "gift\n",
      "girl\n",
      "goodness\n",
      "got\n",
      "grad\n",
      "graveyard\n",
      "guests\n",
      "heat\n",
      "hed\n",
      "help\n",
      "helping\n",
      "hit\n",
      "hospital\n",
      "however\n",
      "http\n",
      "iimgurcom\n",
      "imgurcom\n",
      "imgurhttp\n",
      "include\n",
      "instant\n",
      "interactive\n",
      "itd\n",
      "item\n",
      "ive\n",
      "january\n",
      "job\n",
      "johns\n",
      "keep\n",
      "kids\n",
      "kinda\n",
      "laid\n",
      "landlord\n",
      "landlords\n",
      "last\n",
      "lawyer\n",
      "learned\n",
      "leftover\n",
      "life\n",
      "lift\n",
      "like\n",
      "living\n",
      "local\n",
      "long\n",
      "loves\n",
      "lurking\n",
      "mac\n",
      "make\n",
      "making\n",
      "meal\n",
      "meals\n",
      "medical\n",
      "meets\n",
      "mention\n",
      "mentioned\n",
      "mind\n",
      "money\n",
      "month\n",
      "months\n",
      "move\n",
      "much\n",
      "needy\n",
      "never\n",
      "next\n",
      "nice\n",
      "nursing\n",
      "offer\n",
      "office\n",
      "one\n",
      "paid\n",
      "pantry\n",
      "papa\n",
      "past\n",
      "pax\n",
      "pay\n",
      "paycheck\n",
      "paying\n",
      "people\n",
      "person\n",
      "pictures\n",
      "pizza\n",
      "points\n",
      "price\n",
      "pride\n",
      "promise\n",
      "proof\n",
      "puppy\n",
      "quick\n",
      "quite\n",
      "ranch\n",
      "raop\n",
      "rather\n",
      "read\n",
      "receive\n",
      "recently\n",
      "refund\n",
      "relatives\n",
      "released\n",
      "request\n",
      "rice\n",
      "right\n",
      "rut\n",
      "savings\n",
      "school\n",
      "scratch\n",
      "second\n",
      "series\n",
      "shorter\n",
      "shout\n",
      "shown\n",
      "simple\n",
      "since\n",
      "sites\n",
      "situations\n",
      "soft\n",
      "sold\n",
      "someone\n",
      "son\n",
      "soon\n",
      "spare\n",
      "stairs\n",
      "staples\n",
      "start\n",
      "starve\n",
      "still\n",
      "stopped\n",
      "stress\n",
      "stretch\n",
      "student\n",
      "studying\n",
      "subreddits\n",
      "subsisting\n",
      "sum\n",
      "surprise\n",
      "surviving\n",
      "swear\n",
      "talking\n",
      "thank\n",
      "thanks\n",
      "thats\n",
      "tight\n",
      "tonight\n",
      "took\n",
      "total\n",
      "tough\n",
      "try\n",
      "two\n",
      "understand\n",
      "unemployed\n",
      "unemployment\n",
      "unexpected\n",
      "update\n",
      "users\n",
      "usually\n",
      "vet\n",
      "wait\n",
      "week\n",
      "weeks\n",
      "well\n",
      "went\n",
      "wife\n",
      "winner\n",
      "work\n",
      "wwwredditcom\n",
      "x\n",
      "years\n",
      "yesterday\n",
      "younger\n"
     ]
    }
   ],
   "source": [
    "######################################################################################################\n",
    "# Model 2 - Medthod 2- Chi Square Feature Selection\n",
    "######################################################################################################\n",
    "\n",
    "class ChiSquare:\n",
    "    def __init__(self, dataframe):\n",
    "        self.df = dataframe\n",
    "        self.p = None #P-Value\n",
    "        self.chi2 = None #Chi Test Statistic\n",
    "        self.dof = None\n",
    "        \n",
    "        self.dfTabular = None\n",
    "        self.dfExpected = None\n",
    "\n",
    "    def _print_chisquare_result(self, colX, alpha):\n",
    "        if self.p<alpha:\n",
    "            colX\n",
    "        #else:\n",
    "        #    result=\"{0} is NOT an important predictor. (Discard {0} from model)\".format(colX)\n",
    "\n",
    "        #print(result)\n",
    "        \n",
    "    def TestIndependence(self,colX,colY, alpha=0.05):\n",
    "        X = self.df[colX].astype(str)\n",
    "        Y = self.df[colY].astype(str)\n",
    "        \n",
    "        self.dfObserved = pd.crosstab(Y,X) \n",
    "        chi2, p, dof, expected = stats.chi2_contingency(self.dfObserved.values)\n",
    "        self.p = p\n",
    "        self.chi2 = chi2\n",
    "        self.dof = dof \n",
    "\n",
    "        #print(p)\n",
    "        \n",
    "        self.dfExpected = pd.DataFrame(expected, columns=self.dfObserved.columns, index = self.dfObserved.index)\n",
    "        \n",
    "        if p < alpha:\n",
    "            return colX\n",
    "        else:\n",
    "            return None\n",
    "        \n",
    "\n",
    "#Feature Selection\n",
    "list_words=[]\n",
    "maxColsTrain = len(Train_Text2_.columns)\n",
    "cT = ChiSquare(Train_Text2_)\n",
    "list_words = []\n",
    "for var in Train_Text2_.columns[0:maxColsTrain-1]:\n",
    "    word = cT.TestIndependence(colX=var,colY=\"requester_received_pizza\" )\n",
    "    if word is not None:\n",
    "        print(word)\n",
    "        list_words.append(word)\n",
    "        \n",
    "Train_Text3=pd.DataFrame()\n",
    "Test_Text3=pd.DataFrame()\n",
    "for var in Train_Text2_.columns:\n",
    "    if var in list_words:\n",
    "            Train_Text3[var] = Train_Text2_[var]\n",
    "for var in Test_Text2_.columns:\n",
    "    if var in Train_Text3.columns:\n",
    "            Test_Text3[var] = Test_Text2_[var]\n",
    "for var in Train_Text3.columns:\n",
    "    if var not in Test_Text3.columns:\n",
    "            Test_Text3[var] = 0"
   ]
  },
  {
   "cell_type": "code",
   "execution_count": 45,
   "metadata": {},
   "outputs": [
    {
     "name": "stdout",
     "output_type": "stream",
     "text": [
      "Final Accuracy: 0.385148514851\n"
     ]
    },
    {
     "name": "stderr",
     "output_type": "stream",
     "text": [
      "C:\\Users\\hfallah\\AppData\\Local\\Continuum\\anaconda3\\lib\\site-packages\\sklearn\\utils\\validation.py:578: DataConversionWarning: A column-vector y was passed when a 1d array was expected. Please change the shape of y to (n_samples, ), for example using ravel().\n",
      "  y = column_or_1d(y, warn=True)\n"
     ]
    }
   ],
   "source": [
    "#Multinomial naive bayes\n",
    "clf = MultinomialNB()\n",
    "clf.fit(Train_Text3, Label_Train_t_tr)\n",
    "print (\"Final Accuracy: %s\" \n",
    "       % accuracy_score(Label_Test_t_te, clf.predict(Test_Text3)))\n",
    "# Final Accuracy: 0.39"
   ]
  },
  {
   "cell_type": "code",
   "execution_count": 46,
   "metadata": {},
   "outputs": [
    {
     "name": "stdout",
     "output_type": "stream",
     "text": [
      "             precision    recall  f1-score   support\n",
      "\n",
      "      False     0.8349    0.2320    0.3631       763\n",
      "       True     0.2657    0.8583    0.4057       247\n",
      "\n",
      "avg / total     0.6957    0.3851    0.3735      1010\n",
      "\n"
     ]
    }
   ],
   "source": [
    "#Precision Recall\n",
    "print(classification_report(Label_Test_t_te, clf.predict(Test_Text3), digits=4))"
   ]
  },
  {
   "cell_type": "code",
   "execution_count": 42,
   "metadata": {},
   "outputs": [
    {
     "data": {
      "image/png": "[encoded data removed]",
      "text/plain": [
       "<matplotlib.figure.Figure at 0x12d49e4c7b8>"
      ]
     },
     "metadata": {},
     "output_type": "display_data"
    }
   ],
   "source": [
    "# Compute ROC curve \n",
    "import sklearn.metrics as metrics\n",
    "# calculate the fpr and tpr for all thresholds of the classification\n",
    "probs = clf.predict_proba(Test_Text3)\n",
    "preds = probs[:,1]\n",
    "fpr, tpr, threshold = metrics.roc_curve(Label_Test_t_te, preds)\n",
    "roc_auc = metrics.auc(fpr, tpr)\n",
    "\n",
    "plt.title('Receiver Operating Characteristic')\n",
    "plt.plot(fpr, tpr, 'b', label = 'AUC = %0.2f' % roc_auc)\n",
    "plt.legend(loc = 'lower right')\n",
    "plt.plot([0, 1], [0, 1],'r--')\n",
    "plt.xlim([0, 1])\n",
    "plt.ylim([0, 1])\n",
    "plt.ylabel('True Positive Rate')\n",
    "plt.xlabel('False Positive Rate')\n",
    "plt.show()"
   ]
  },
  {
   "cell_type": "code",
   "execution_count": null,
   "metadata": {
    "collapsed": true
   },
   "outputs": [],
   "source": []
  }
 ],
 "metadata": {
  "kernelspec": {
   "display_name": "Python 3",
   "language": "python",
   "name": "python3"
  },
  "language_info": {
   "codemirror_mode": {
    "name": "ipython",
    "version": 3
   },
   "file_extension": ".py",
   "mimetype": "text/x-python",
   "name": "python",
   "nbconvert_exporter": "python",
   "pygments_lexer": "ipython3",
   "version": "3.6.3"
  }
 },
 "nbformat": 4,
 "nbformat_minor": 2
}
